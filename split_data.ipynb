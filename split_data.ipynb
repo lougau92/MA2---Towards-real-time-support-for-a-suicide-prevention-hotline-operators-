{
 "cells": [
  {
   "cell_type": "code",
   "execution_count": 2,
   "metadata": {},
   "outputs": [],
   "source": [
    "import pandas as pd\n",
    "import numpy as np\n",
    "import os\n",
    "import matplotlib.pyplot as plt"
   ]
  },
  {
   "cell_type": "markdown",
   "metadata": {},
   "source": [
    "# Data\n",
    "\n",
    "We will split the existing 113_data in such a way, that each conversation gets its own file.\n",
    "Each conversation will include the CDS results of each message alongside the information from message_info file.\n",
    "\n",
    "Postchat questions and prechat questions can stay in the same files."
   ]
  },
  {
   "cell_type": "code",
   "execution_count": 6,
   "metadata": {},
   "outputs": [
    {
     "name": "stdout",
     "output_type": "stream",
     "text": [
      "On year 2017\n",
      "In directory: 201711\n",
      "In directory: 201710\n",
      "In directory: 201708\n",
      "In directory: 201712\n",
      "In directory: 201709\n",
      "In directory: 201707\n",
      "On year 2018\n",
      "In directory: 201808\n",
      "In directory: 201812\n",
      "In directory: 201806\n",
      "In directory: 201805\n",
      "In directory: 201804\n",
      "In directory: 201807\n",
      "In directory: 201811\n",
      "In directory: 201810\n",
      "In directory: 201809\n",
      "In directory: 201801\n",
      "In directory: 201803\n",
      "In directory: 201802\n",
      "On year 2019\n",
      "In directory: 201901\n",
      "In directory: 201909\n",
      "In directory: 201911\n",
      "In directory: 201906\n",
      "In directory: 201904\n",
      "In directory: 201907\n",
      "In directory: 201908\n",
      "In directory: 201903\n",
      "In directory: 201910\n",
      "In directory: 201902\n",
      "In directory: 201905\n",
      "In directory: 201912\n",
      "On year 2020\n",
      "In directory: 202010\n",
      "In directory: 202008\n",
      "In directory: 202006\n",
      "In directory: 202011\n",
      "In directory: 202012\n",
      "In directory: 202009\n",
      "In directory: 202007\n",
      "In directory: 202003\n",
      "In directory: 202002\n",
      "In directory: 202004\n",
      "In directory: 202005\n",
      "In directory: 202001\n",
      "On year 2021\n",
      "In directory: 202101\n",
      "In directory: 202103\n",
      "In directory: 202104\n",
      "In directory: 202105\n",
      "In directory: 202102\n"
     ]
    }
   ],
   "source": [
    "def split_data():\n",
    "    # Write each conversation from 113_data into a seperate file.\n",
    "    # The conversation itself isn't altered in any way.\n",
    "    data_path = \"./113_data/\"\n",
    "    target_path = \"./conversations/\"\n",
    "\n",
    "    years = range(2017,2022)\n",
    "\n",
    "    cds_results = \"CDS_results.tsv\"\n",
    "    message_info = \"message_info.tsv\"\n",
    "\n",
    "    for y in years:\n",
    "        fpath = os.path.join(data_path, str(y))\n",
    "\n",
    "        print(\"On year \" + str(y))\n",
    "\n",
    "        # All sub directories in a year folder\n",
    "        dirs =  os.listdir(fpath)\n",
    "        for d in dirs:\n",
    "            print(\"In directory: \" + d)\n",
    "\n",
    "            cpath = os.path.join(fpath, d)\n",
    "            \n",
    "            # Path to the two files\n",
    "            cds_r = os.path.join(cpath, cds_results)\n",
    "            msg_i = os.path.join(cpath, message_info)\n",
    "\n",
    "            cds_df = pd.read_csv(cds_r, sep='\\t')\n",
    "            msg_df = pd.read_csv(msg_i, sep='\\t')\n",
    "\n",
    "            split_conversations(cds_df, msg_df, target_path, d)\n",
    "\n",
    "\n",
    "\n",
    "def split_conversations(cds_df, msg_df, target_path, conv_dir_name):\n",
    "    # Looks at cds_df and msg_df, extracts each conversation out\n",
    "    # and writes them to target path  to file conv_dir_name_event_id.tsv\n",
    "    #print(\"Length of cds is: \" + str(cds_df.index))\n",
    "\n",
    "    while len(cds_df.index)>0:\n",
    "        # We get first row, look at event_id and extract all rows in cds_df and msg_df with that event_id.\n",
    "        r = cds_df.iloc[0]\n",
    "        eid = r['event_id']\n",
    "\n",
    "        cds_eid_data = cds_df.loc[cds_df['event_id'] == eid]\n",
    "        msg_eid_data = msg_df[msg_df['event_id'] == eid]\n",
    "\n",
    "        # We drop in msg_eid event_id and message_id column (we don't need 2)\n",
    "        msg_eid_data = msg_eid_data.drop(['event_id'], axis=1)\n",
    "        msg_eid_data = msg_eid_data.drop(['message_id'], axis=1)\n",
    "\n",
    "        # We combine cds and msg data and write to file\n",
    "        merged = pd.concat([cds_eid_data, msg_eid_data], axis=1)\n",
    "        merged.to_csv(os.path.join(target_path, conv_dir_name+\"_\"+eid+\".csv\"), sep='\\t')\n",
    "        \n",
    "        # Then we drop the selected rows from both df\n",
    "        cds_df.drop(cds_eid_data.index, axis=0, inplace=True)\n",
    "        msg_df.drop(msg_eid_data.index, axis=0, inplace=True)\n",
    "\n",
    "        #print(\"Left: \" + str(len(cds_df.index)))\n",
    "\n",
    "    return 0\n",
    "\n",
    "split_data()"
   ]
  },
  {
   "cell_type": "code",
   "execution_count": 7,
   "metadata": {},
   "outputs": [],
   "source": [
    "def validate_data_split():\n",
    "    # Count length of the conversations\n",
    "\n",
    "    data_path = \"./113_data/\"\n",
    "    target_path = \"./conversations/\"\n",
    "\n",
    "    years = range(2017,2022)\n",
    "\n",
    "    cds_results = \"CDS_results.tsv\"\n",
    "    message_info = \"message_info.tsv\"\n",
    "\n",
    "    data_length = 0\n",
    "\n",
    "    for y in years:\n",
    "        fpath = os.path.join(data_path, str(y))\n",
    "\n",
    "        # All sub directories in a year folder\n",
    "        dirs =  os.listdir(fpath)\n",
    "        for d in dirs:\n",
    "            cpath = os.path.join(fpath, d)\n",
    "            # Path to the two files\n",
    "            cds_r = os.path.join(cpath, cds_results)\n",
    "\n",
    "            cds_df = pd.read_csv(cds_r, sep='\\t')\n",
    "            data_length = data_length + len(cds_df.index)\n",
    "    \n",
    "    conv_length = 0\n",
    "    for c in os.listdir(target_path):\n",
    "        conv_df = pd.read_csv(os.path.join(target_path, c), sep='\\t')\n",
    "        conv_length = conv_length + len(conv_df.index)\n",
    "\n",
    "    return (data_length, conv_length)\n"
   ]
  },
  {
   "cell_type": "markdown",
   "metadata": {},
   "source": [
    "# Prechat questions and Postchat categories rated from (1-7)\n",
    "## Categories\n",
    "I tend to kill myself\n",
    "I can't take my pain anymore\n",
    "I am capable of killing myself\n",
    "I am a burden to others\n",
    "I feel like I'm stuck\n",
    "Ik heb de wil om te leven\n",
    "I'm hopeless\n",
    "I don't belong anywhere\n",
    "I feel like I've given up\n",
    "\n"
   ]
  },
  {
   "cell_type": "code",
   "execution_count": 12,
   "metadata": {},
   "outputs": [],
   "source": [
    "def filter_conversations():\n",
    "    # Leave only client messages in conversations\n",
    "\n",
    "    data_path = \"./conversations\"\n",
    "    target_path = \"./filtered_conv/\"\n",
    "\n",
    "    for c in os.listdir(data_path):\n",
    "        conv_df = pd.read_csv(os.path.join(data_path, c), sep='\\t')\n",
    "        df = conv_df[conv_df['user_handle'] == 'client']\n",
    "        df.to_csv(os.path.join(target_path, c+\".csv\"), sep='\\t')\n",
    "filter_conversations()"
   ]
  },
  {
   "cell_type": "markdown",
   "metadata": {},
   "source": [
    "# Ploting client conversation data\n",
    "Plot the number of CDS's in a conversation"
   ]
  },
  {
   "cell_type": "code",
   "execution_count": 54,
   "metadata": {},
   "outputs": [
    {
     "name": "stderr",
     "output_type": "stream",
     "text": [
      "/tmp/ipykernel_31448/577799523.py:6: FutureWarning: In a future version of pandas all arguments of DataFrame.drop except for the argument 'labels' will be keyword-only\n",
      "  df = df.drop('event_id', 1)\n",
      "/tmp/ipykernel_31448/577799523.py:7: FutureWarning: In a future version of pandas all arguments of DataFrame.drop except for the argument 'labels' will be keyword-only\n",
      "  df = df.drop('message_id', 1)\n",
      "/tmp/ipykernel_31448/577799523.py:8: FutureWarning: In a future version of pandas all arguments of DataFrame.drop except for the argument 'labels' will be keyword-only\n",
      "  df = df.drop('user_handle', 1)\n",
      "/tmp/ipykernel_31448/577799523.py:9: FutureWarning: In a future version of pandas all arguments of DataFrame.drop except for the argument 'labels' will be keyword-only\n",
      "  df = df.drop('sec_since_start',1)\n",
      "/tmp/ipykernel_31448/577799523.py:10: FutureWarning: In a future version of pandas all arguments of DataFrame.drop except for the argument 'labels' will be keyword-only\n",
      "  df = df.drop('Unnamed: 0',1)\n",
      "/tmp/ipykernel_31448/577799523.py:11: FutureWarning: In a future version of pandas all arguments of DataFrame.drop except for the argument 'labels' will be keyword-only\n",
      "  df = df.drop('Unnamed: 0.1',1)\n"
     ]
    },
    {
     "data": {
      "image/png": "[encoded data removed]",
      "text/plain": [
       "<Figure size 432x288 with 1 Axes>"
      ]
     },
     "metadata": {
      "needs_background": "light"
     },
     "output_type": "display_data"
    }
   ],
   "source": [
    "def plot_client_conv(i):\n",
    "    path = \"./filtered_conv/\"\n",
    "    files = os.listdir(path)\n",
    "\n",
    "    df = pd.read_csv(os.path.join(path, files[i]), sep='\\t')\n",
    "    df = df.drop('event_id', 1)\n",
    "    df = df.drop('message_id', 1)\n",
    "    df = df.drop('user_handle', 1)\n",
    "    df = df.drop('sec_since_start',1)\n",
    "    df = df.drop('Unnamed: 0',1)\n",
    "    df = df.drop('Unnamed: 0.1',1)\n",
    "\n",
    "    df['num_of_cds'] = df.sum(axis=1)\n",
    "\n",
    "    gfg = pd.Series(df['num_of_cds'])\n",
    "        \n",
    "    gfg.plot()\n",
    "    plt.show()\n",
    "\n",
    "plot_client_conv(2550)"
   ]
  },
  {
   "cell_type": "code",
   "execution_count": 66,
   "metadata": {},
   "outputs": [],
   "source": [
    "def rename():\n",
    "    files = os.listdir(\"./filtered_conv\")\n",
    "    for f in files:\n",
    "        if \"questions\" in f:\n",
    "            continue\n",
    "        orig = str(f)\n",
    "        ind = f.index(\"_\")\n",
    "        f = f[ind+1:]\n",
    "        f = f[:-4]\n",
    "        os.rename(os.path.join(\"./filtered_conv\",orig), os.path.join(\"./filtered_conv\", f))"
   ]
  }
 ],
 "metadata": {
  "interpreter": {
   "hash": "916dbcbb3f70747c44a77c7bcd40155683ae19c65e1c03b4aa3499c5328201f1"
  },
  "kernelspec": {
   "display_name": "Python 3.9.5 64-bit",
   "language": "python",
   "name": "python3"
  },
  "language_info": {
   "codemirror_mode": {
    "name": "ipython",
    "version": 3
   },
   "file_extension": ".py",
   "mimetype": "text/x-python",
   "name": "python",
   "nbconvert_exporter": "python",
   "pygments_lexer": "ipython3",
   "version": "3.9.5"
  },
  "orig_nbformat": 4
 },
 "nbformat": 4,
 "nbformat_minor": 2
}
